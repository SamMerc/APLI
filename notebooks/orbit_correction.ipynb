{
 "cells": [
  {
   "cell_type": "code",
   "execution_count": 1,
   "id": "81ca0231",
   "metadata": {},
   "outputs": [],
   "source": [
    "from hendrics import read_events"
   ]
  },
  {
   "cell_type": "code",
   "execution_count": 3,
   "id": "e48782ae",
   "metadata": {},
   "outputs": [
    {
     "data": {
      "text/plain": [
       "'posix'"
      ]
     },
     "execution_count": 3,
     "metadata": {},
     "output_type": "execute_result"
    }
   ],
   "source": [
    "import os\n",
    "os.name"
   ]
  },
  {
   "cell_type": "code",
   "execution_count": 4,
   "id": "4e7021d8",
   "metadata": {},
   "outputs": [
    {
     "name": "stdout",
     "output_type": "stream",
     "text": [
      "INFO: Opening sourceA.evt [hendrics.read_events]\n"
     ]
    },
    {
     "name": "stderr",
     "output_type": "stream",
     "text": [
      "/home/ferrigno/.venv/myVE/lib/python3.8/site-packages/stingray/io.py:235: UserWarning: Column energy not found\n",
      "  warnings.warn('Column ' + a + ' not found')\n"
     ]
    },
    {
     "name": "stdout",
     "output_type": "stream",
     "text": [
      "INFO: Saving data and info to sourceA_nustar_fpma_ev.nc [hendrics.io]\n"
     ]
    }
   ],
   "source": [
    "outA = read_events.treat_event_file('sourceA.evt')"
   ]
  },
  {
   "cell_type": "code",
   "execution_count": 6,
   "id": "516812d9",
   "metadata": {},
   "outputs": [],
   "source": [
    "from hendrics import calibrate"
   ]
  },
  {
   "cell_type": "code",
   "execution_count": 7,
   "id": "28918c37",
   "metadata": {},
   "outputs": [
    {
     "name": "stdout",
     "output_type": "stream",
     "text": [
      "INFO: Loading file sourceA_nustar_fpma_ev.nc... [hendrics.calibrate]\n",
      "INFO: Done. [hendrics.calibrate]\n",
      "INFO: Saving calibrated data to cal_sourceA_nustar_fpma_ev.nc [hendrics.calibrate]\n",
      "INFO: Saving data and info to cal_sourceA_nustar_fpma_ev.nc [hendrics.io]\n"
     ]
    }
   ],
   "source": [
    "calibrate.calibrate(outA[0], 'cal_'+outA[0], rmf_file='../obs_spec/FPMA_sr.rmf')"
   ]
  },
  {
   "cell_type": "code",
   "execution_count": 9,
   "id": "3902d76f",
   "metadata": {},
   "outputs": [],
   "source": [
    "import hendrics.base\n",
    "import hendrics.io\n"
   ]
  },
  {
   "cell_type": "markdown",
   "id": "8d6b3119",
   "metadata": {},
   "source": [
    "Edit the File `orbit_t2.txt` to insert the right orbital solution"
   ]
  },
  {
   "cell_type": "code",
   "execution_count": 12,
   "id": "c446de62",
   "metadata": {},
   "outputs": [
    {
     "name": "stdout",
     "output_type": "stream",
     "text": [
      "INFO: Interpolating orbital solution with 1971 points [hendrics.base]\n",
      "INFO: Using default ephemeris: de200 [hendrics.base]\n"
     ]
    },
    {
     "name": "stderr",
     "output_type": "stream",
     "text": [
      "2022-10-03 14:51:19.859 | DEBUG    | pint.toa:__init__:1310 - No pulse number flags found in the TOAs\n",
      "2022-10-03 14:51:19.861 | DEBUG    | pint.toa:compute_TDBs:2139 - Computing TDB columns.\n",
      "2022-10-03 14:51:19.861 | DEBUG    | pint.toa:compute_TDBs:2164 - Using EPHEM = de200 for TDB calculation.\n",
      "2022-10-03 14:51:20.027 | DEBUG    | pint.toa:compute_posvels:2255 - Computing PosVels of observatories and Earth, using de200\n",
      "2022-10-03 14:51:20.044 | DEBUG    | pint.toa:compute_posvels:2310 - SSB obs pos [0. 0. 0.] m\n",
      "2022-10-03 14:53:00.543 | INFO     | pint.solar_system_ephemerides:_load_kernel_link:54 - Set solar system ephemeris to de200 from download\n",
      "2022-10-03 14:53:00.547 | DEBUG    | pint.toa:compute_posvels:2324 - Adding columns ssb_obs_pos ssb_obs_vel obs_sun_pos\n",
      "2022-10-03 14:53:00.569 | DEBUG    | pint.models.solar_system_shapiro:solar_system_shapiro_delay:102 - Skipping Shapiro delay for Barycentric TOAs\n"
     ]
    }
   ],
   "source": [
    "evA = hendrics.io.load_events('cal_'+outA[0],)\n",
    "evA_deorbit = hendrics.base.deorbit_events(evA, parameter_file='orbit_t2.txt')\n",
    "hendrics.io.save_events(evA_deorbit, \"deorbit_cal_\" + outA[0])"
   ]
  },
  {
   "cell_type": "markdown",
   "id": "ef6bf040",
   "metadata": {},
   "source": [
    "See https://hendrics.stingray.science/en/stable/tutorials/pulsars.html for pulsation search"
   ]
  }
 ],
 "metadata": {
  "kernelspec": {
   "display_name": "Python 3 (ipykernel)",
   "language": "python",
   "name": "python3"
  },
  "language_info": {
   "codemirror_mode": {
    "name": "ipython",
    "version": 3
   },
   "file_extension": ".py",
   "mimetype": "text/x-python",
   "name": "python",
   "nbconvert_exporter": "python",
   "pygments_lexer": "ipython3",
   "version": "3.10.4"
  }
 },
 "nbformat": 4,
 "nbformat_minor": 5
}
