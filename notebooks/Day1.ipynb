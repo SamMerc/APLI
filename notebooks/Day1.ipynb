{
 "cells": [
  {
   "cell_type": "markdown",
   "id": "b6a2896f",
   "metadata": {},
   "source": [
    "# Astrophysical lab I\n",
    "Student: Samson Mercier <samson.mercier18@gmail.com>\n",
    "Teacher: Carlo Ferrigno <carlo.ferrigno@unige.ch>\n",
    "\n",
    "## Title\n",
    "Spectral and timing variability of magnetized neutron stars\n",
    "## Abstract\n",
    "Magnetized neutron stars accreting from a companion star emit X-ray radiation that is strongly modulated with the spin phase. They are also variables on time scales varying from seconds to months.\n",
    "By analyzing the pulsed emission, it is possible to study the emission mechanism and its geometry in the vicinity of the neutron star, where extreme gravity and radiation conditions are present.\n",
    "By analyzing the variability on different time scales, it is possible to study how the neutron star interact with the surrounding medium to capture the material to be accreted.\n",
    "The student will be asked to familiarize with one or two X-ray facilities and their data format as well as data reduction pipelines.\n",
    "Then, specific tools used for spectral and timing analysis will be applied to the reduced data sets and results visualized using python notebooks. Note that many methods are common to several research fields and can be used beyond the high-energy-astrophysics domain.\n",
    "Even if the student will be asked to contribute to the development of parts of the analysis and visualization tools using standard software versioning, most of the technical details will be mitigated by using software containers and self-developed python packages.\n",
    "The student will be asked to read and summarize research papers and provide a written report of their work that includes a literature review. "
   ]
  },
  {
   "cell_type": "markdown",
   "id": "8d6f8e33",
   "metadata": {},
   "source": [
    "## Day 1 Familiarize with X-ray data\n",
    "## Instrumentation.\n",
    "* https://cxc.harvard.edu/cdo/xray_primer.pdf\n",
    "(We will not use Chandra, but rather XMM-Newton and NuSTAR, but the data format is very similar)\n",
    "\n",
    "* https://heasarc.gsfc.nasa.gov/docs/nustar/nustar_tech_desc.html\n",
    "(to have an Idea of the instrument)\n",
    "\n",
    "## Specific NuSTAR processing\n",
    "All information is available here https://heasarc.gsfc.nasa.gov/docs/nustar/analysis/nustar_swguide.pdf\n"
   ]
  },
  {
   "cell_type": "markdown",
   "id": "4b54297b",
   "metadata": {},
   "source": [
    "## I extracted cleaned event files for the observation of Cen X-3 with ID 30101055002\n",
    "We concentrate here on the unit A. There are 3 files:\n",
    "- FPMA_3.0_7.0_cl_barycorr.evt\n",
    "- sourceA.evt\n",
    "- backgroundA.evt"
   ]
  },
  {
   "cell_type": "code",
   "execution_count": 1,
   "id": "79ad99d6",
   "metadata": {},
   "outputs": [
    {
     "name": "stdout",
     "output_type": "stream",
     "text": [
      "--2022-09-25 18:57:40--  http://www.isdc.unige.ch/~ferrigno/Downloads/CenX-3_nustar_events.tgz\n",
      "Resolving www.isdc.unige.ch (www.isdc.unige.ch)... 129.194.168.43\n",
      "Connecting to www.isdc.unige.ch (www.isdc.unige.ch)|129.194.168.43|:80... connected.\n",
      "HTTP request sent, awaiting response... 301 Moved Permanently\n",
      "Location: https://www.isdc.unige.ch/~ferrigno/Downloads/CenX-3_nustar_events.tgz [following]\n",
      "--2022-09-25 18:57:40--  https://www.isdc.unige.ch/~ferrigno/Downloads/CenX-3_nustar_events.tgz\n",
      "Connecting to www.isdc.unige.ch (www.isdc.unige.ch)|129.194.168.43|:443... connected.\n",
      "HTTP request sent, awaiting response... 200 OK\n",
      "Length: 202485788 (193M) [application/x-gzip]\n",
      "Saving to: ‘CenX-3_nustar_events.tgz’\n",
      "\n",
      "CenX-3_nustar_event 100%[===================>] 193.11M  11.1MB/s    in 18s     \n",
      "\n",
      "2022-09-25 18:57:58 (11.0 MB/s) - ‘CenX-3_nustar_events.tgz’ saved [202485788/202485788]\n",
      "\n"
     ]
    }
   ],
   "source": [
    "#To be executed just once to get the data\n",
    "!wget http://www.isdc.unige.ch/~ferrigno/Downloads/CenX-3_nustar_events.tgz\n",
    "!tar xfz CenX-3_nustar_events.tgz"
   ]
  },
  {
   "cell_type": "markdown",
   "id": "8232d146",
   "metadata": {},
   "source": [
    "### EX visualize the structure of the fits file \n",
    "- (suggestion, use astropy, either with tables or with io.fits) `import astropy.io.fits as pf` \n",
    "- Explain the meaning of different extensions, header keywords, and columns\n",
    "- Understand the concept of Good Time Intervals (GTIs)"
   ]
  },
  {
   "cell_type": "code",
   "execution_count": 2,
   "id": "9b5cee12",
   "metadata": {},
   "outputs": [],
   "source": []
  },
  {
   "cell_type": "markdown",
   "id": "f87cc4b6",
   "metadata": {},
   "source": [
    "### EX: Explain what it mean the barycentric correction: in which time system are the times in the events ?"
   ]
  },
  {
   "cell_type": "markdown",
   "id": "0f3e6f37",
   "metadata": {},
   "source": []
  },
  {
   "cell_type": "markdown",
   "id": "18e138fb",
   "metadata": {},
   "source": [
    "### EX Visualize the light curve choosing a proper time binning and energy range. Light curve = event rate per unit time.\n",
    "Suggestions, use one of:\n",
    "- xselect (domain specific, available from the hesoft installation in the docker)\n",
    "- lcurve (domain specific, available from the hesoft installation in the docker)\n",
    "- stingray (https://iopscience.iop.org/article/10.3847/1538-4357/ab258d/meta python package in development)\n",
    "- develop your own routine, "
   ]
  },
  {
   "cell_type": "code",
   "execution_count": null,
   "id": "35e6f23b",
   "metadata": {},
   "outputs": [],
   "source": []
  },
  {
   "cell_type": "markdown",
   "id": "eea43b3a",
   "metadata": {},
   "source": [
    "### EX visualize an image of the three different event files\n",
    "- suggestion xselect domain specific\n",
    "- 2dhist in python (which columns to use?)\n",
    "What is in these files?"
   ]
  },
  {
   "cell_type": "code",
   "execution_count": null,
   "id": "5d0bbdd7",
   "metadata": {},
   "outputs": [],
   "source": []
  },
  {
   "cell_type": "markdown",
   "id": "1999bcbd",
   "metadata": {},
   "source": [
    "### EX find the pulse period\n",
    "- you should obtain a value like in https://gammaray.nsstc.nasa.gov/gbm/science/pulsars/lightcurves/cenx3.html for the time of observation (please find it)\n",
    "Suggestions: \n",
    "- make a power pectrum\n",
    "- make a Lomb Scargle Periodogram\n",
    "- make epoch folding\n",
    "\n",
    "Compre results"
   ]
  },
  {
   "cell_type": "code",
   "execution_count": null,
   "id": "cb6a73b8",
   "metadata": {},
   "outputs": [],
   "source": []
  },
  {
   "cell_type": "markdown",
   "id": "cb9cf911",
   "metadata": {},
   "source": [
    "### EX Make and plot a Time phase matrix\n",
    "- Divide the observation in time intervals and for each time interval make a phase profile\n",
    "- For each profile compute the phase of the main harmonic (fourier decomposition)\n",
    "- Plot it as function of time\n",
    "- What do you see ? (hint, frequency derivative ?)"
   ]
  },
  {
   "cell_type": "code",
   "execution_count": null,
   "id": "dfc0eeb1",
   "metadata": {},
   "outputs": [],
   "source": []
  },
  {
   "cell_type": "markdown",
   "id": "b0ae86da",
   "metadata": {},
   "source": [
    "### EX Orbital correction\n",
    "- The neutron star is on a binary orbit, it is subject to Doppler shift\n",
    "- It is necessary to compute the times on the lines of nodes of the system using Kepler's equation\n",
    "\n",
    "(https://gitlab.astro.unige.ch/ferrigno/timingsuite/-/blob/master/src/binarycor.c) I do my own correction, maybe in stingray or other, there is something similar"
   ]
  },
  {
   "cell_type": "code",
   "execution_count": null,
   "id": "10ce486b",
   "metadata": {},
   "outputs": [],
   "source": []
  }
 ],
 "metadata": {
  "kernelspec": {
   "display_name": "Python 3 (ipykernel)",
   "language": "python",
   "name": "python3"
  },
  "language_info": {
   "codemirror_mode": {
    "name": "ipython",
    "version": 3
   },
   "file_extension": ".py",
   "mimetype": "text/x-python",
   "name": "python",
   "nbconvert_exporter": "python",
   "pygments_lexer": "ipython3",
   "version": "3.8.10"
  }
 },
 "nbformat": 4,
 "nbformat_minor": 5
}
