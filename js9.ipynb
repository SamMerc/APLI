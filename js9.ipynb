{
 "cells": [
  {
   "cell_type": "code",
   "execution_count": 1,
   "id": "eb872c4c",
   "metadata": {},
   "outputs": [
    {
     "ename": "ModuleNotFoundError",
     "evalue": "No module named 'jpjs9'",
     "output_type": "error",
     "traceback": [
      "\u001b[0;31m---------------------------------------------------------------------------\u001b[0m",
      "\u001b[0;31mModuleNotFoundError\u001b[0m                       Traceback (most recent call last)",
      "Cell \u001b[0;32mIn [1], line 5\u001b[0m\n\u001b[1;32m      2\u001b[0m logging\u001b[38;5;241m.\u001b[39mbasicConfig(level\u001b[38;5;241m=\u001b[39m\u001b[38;5;124m'\u001b[39m\u001b[38;5;124mDEBUG\u001b[39m\u001b[38;5;124m'\u001b[39m)\n\u001b[1;32m      3\u001b[0m logging\u001b[38;5;241m.\u001b[39mgetLogger()\u001b[38;5;241m.\u001b[39msetLevel(\u001b[38;5;124m'\u001b[39m\u001b[38;5;124mINFO\u001b[39m\u001b[38;5;124m'\u001b[39m)\n\u001b[0;32m----> 5\u001b[0m \u001b[38;5;28;01mimport\u001b[39;00m \u001b[38;5;21;01mjpjs9\u001b[39;00m\n",
      "\u001b[0;31mModuleNotFoundError\u001b[0m: No module named 'jpjs9'"
     ]
    }
   ],
   "source": [
    "import logging\n",
    "logging.basicConfig(level='DEBUG')\n",
    "logging.getLogger().setLevel('INFO')\n",
    "\n",
    "import jpjs9"
   ]
  },
  {
   "cell_type": "code",
   "execution_count": 3,
   "id": "5ebfc49c-9d8f-4108-8701-67dea3a3576d",
   "metadata": {},
   "outputs": [
    {
     "data": {
      "text/html": [
       "\n",
       "<iframe class=\"js9frame\" id=\"js9frame\" src='/js9html/index_primary.html' width=\"100%\" height=\"700px\" frameBorder=\"0\" scrolling=\"no\"></iframe>\n",
       "\n",
       "\n",
       "<script> \n",
       "    //var elms = document.querySelectorAll(\"[id='js9frame']\");\n",
       "    var elms = Array.from(document.getElementsByClassName('js9frame'));\n",
       "    console.log(elms);\n",
       "    elms.forEach(\n",
       "        function (frame) {                            \n",
       "            if ( document.URL.includes('renkulab') ) {\n",
       "                console.log(`detected document.URL ${document.URL}`)\n",
       "                detected_session_id = document.URL.split('/lab/')[0].split('/').pop();                \n",
       "                console.log(detected_session_id);\n",
       "\n",
       "                frame.src = 'https://renkulab.io/sessions/' + detected_session_id + '/js9html';\n",
       "                console.log(frame);\n",
       "            } else {\n",
       "                console.log('no renku - no need to detect long URL');\n",
       "            }\n",
       "        });\n",
       "</script>\n",
       "        "
      ],
      "text/plain": [
       "<IPython.core.display.HTML object>"
      ]
     },
     "execution_count": 3,
     "metadata": {},
     "output_type": "execute_result"
    }
   ],
   "source": [
    "J_primary = jpjs9.JS9(id='primary')\n",
    "J_primary.display()"
   ]
  },
  {
   "cell_type": "code",
   "execution_count": 4,
   "id": "01c97058-f942-42e3-b0fd-fd34a2c6571f",
   "metadata": {},
   "outputs": [
    {
     "name": "stderr",
     "output_type": "stream",
     "text": [
      "INFO:JS9:first command to send: will try to connect first\n",
      "WARNING:root:socketio connect failed: Unexpected status code 400 in server response, using html\n",
      "INFO:JS9:send with args: (None,) kwargs: {'msg': 'alive'} returns: \"'OK'\"\n",
      "INFO:JS9:send with args: ({'cmd': 'Load', 'args': ('img.fits',), 'id': 'primaryJS9'},) kwargs: {} returns: \"''\"\n",
      "INFO:JS9:send with args: ({'cmd': 'LoadRegions', 'args': ('circle.reg',), 'id': 'primaryJS9'},) kwargs: {} returns: \"''\"\n",
      "INFO:JS9:send with args: ({'cmd': 'SetColormap', 'args': ('red',), 'id': 'primaryJS9'},) kwargs: {} returns: \"'OK'\"\n"
     ]
    },
    {
     "data": {
      "text/plain": [
       "'OK'"
      ]
     },
     "execution_count": 4,
     "metadata": {},
     "output_type": "execute_result"
    }
   ],
   "source": [
    "J_primary.Load('https://www.isdc.unige.ch/~savchenk/img.fits')\n",
    "\n",
    "\n",
    "open(\"circle.reg\", \"w\").write(\"\"\"\n",
    "# Region file format: JS9 version 1.0\n",
    "FK5\n",
    "circle(19:30:34.550,-59:23:39.806,2.468588d) {\"color\":\"#ffccaa\", \"text\": \"great region!\"} \n",
    "\"\"\")\n",
    "\n",
    "J_primary.LoadRegions(\"circle.reg\")\n",
    "\n",
    "J_primary.SetColormap('red')\n"
   ]
  },
  {
   "cell_type": "code",
   "execution_count": 5,
   "id": "79f1e45d-e30b-4805-b6fa-69a621589f3f",
   "metadata": {},
   "outputs": [
    {
     "data": {
      "text/html": [
       "\n",
       "<iframe class=\"js9frame\" id=\"js9frame\" src='/js9html/index_secondary.html' width=\"100%\" height=\"700px\" frameBorder=\"0\" scrolling=\"no\"></iframe>\n",
       "\n",
       "\n",
       "<script> \n",
       "    //var elms = document.querySelectorAll(\"[id='js9frame']\");\n",
       "    var elms = Array.from(document.getElementsByClassName('js9frame'));\n",
       "    console.log(elms);\n",
       "    elms.forEach(\n",
       "        function (frame) {                            \n",
       "            if ( document.URL.includes('renkulab') ) {\n",
       "                console.log(`detected document.URL ${document.URL}`)\n",
       "                detected_session_id = document.URL.split('/lab/')[0].split('/').pop();                \n",
       "                console.log(detected_session_id);\n",
       "\n",
       "                frame.src = 'https://renkulab.io/sessions/' + detected_session_id + '/js9html';\n",
       "                console.log(frame);\n",
       "            } else {\n",
       "                console.log('no renku - no need to detect long URL');\n",
       "            }\n",
       "        });\n",
       "</script>\n",
       "        "
      ],
      "text/plain": [
       "<IPython.core.display.HTML object>"
      ]
     },
     "execution_count": 5,
     "metadata": {},
     "output_type": "execute_result"
    }
   ],
   "source": [
    "J_secondary = jpjs9.JS9(id='secondary')\n",
    "J_secondary.display()"
   ]
  },
  {
   "cell_type": "code",
   "execution_count": 6,
   "id": "8f76eb1d-ab29-490f-96d6-72e2d420deb8",
   "metadata": {},
   "outputs": [
    {
     "name": "stderr",
     "output_type": "stream",
     "text": [
      "INFO:JS9:first command to send: will try to connect first\n",
      "INFO:JS9:send with args: (None,) kwargs: {'msg': 'alive'} returns: \"'OK'\"\n",
      "INFO:JS9:send with args: ({'cmd': 'Load', 'args': ('img.fits',), 'id': 'secondaryJS9'},) kwargs: {} returns: \"''\"\n",
      "INFO:JS9:send with args: ({'cmd': 'LoadRegions', 'args': ('circle.reg',), 'id': 'secondaryJS9'},) kwargs: {} returns: \"''\"\n",
      "INFO:JS9:send with args: ({'cmd': 'SetColormap', 'args': ('green',), 'id': 'secondaryJS9'},) kwargs: {} returns: \"'OK'\"\n"
     ]
    },
    {
     "data": {
      "text/plain": [
       "'OK'"
      ]
     },
     "execution_count": 6,
     "metadata": {},
     "output_type": "execute_result"
    }
   ],
   "source": [
    "J_secondary.Load('https://www.isdc.unige.ch/~savchenk/img.fits')\n",
    "\n",
    "J_secondary.LoadRegions(\"circle.reg\")\n",
    "\n",
    "J_secondary.SetColormap('green')\n"
   ]
  },
  {
   "cell_type": "code",
   "execution_count": 9,
   "id": "fff33f87-5510-4446-a1e4-7b024a1d2a95",
   "metadata": {},
   "outputs": [
    {
     "name": "stderr",
     "output_type": "stream",
     "text": [
      "INFO:JS9:send with args: ({'cmd': 'GetRegions', 'args': ('all', {'format': 'text'}), 'id': 'secondaryJS9'},) kwargs: {} returns: \"'FK5; circle(19:28:38.154,-51:27:08.396,2.468588d) {\"color\":\"#ffccaa\",\"text\":\"great region!\"}'\"\n"
     ]
    },
    {
     "name": "stdout",
     "output_type": "stream",
     "text": [
      "FK5; circle(19:28:38.154,-51:27:08.396,2.468588d) {\"color\":\"#ffccaa\",\"text\":\"great region!\"}"
     ]
    }
   ],
   "source": [
    "J_secondary.SaveRegionFile()\n",
    "!cat js9.reg"
   ]
  },
  {
   "cell_type": "code",
   "execution_count": 10,
   "id": "a3df805b-8882-463e-815c-51f3e91f2314",
   "metadata": {},
   "outputs": [
    {
     "name": "stderr",
     "output_type": "stream",
     "text": [
      "INFO:JS9:send with args: ({'cmd': 'GetRegions', 'args': ('all', {'format': 'text'}), 'id': 'primaryJS9'},) kwargs: {} returns: \"'FK5; circle(19:30:34.550,-59:23:39.806,2.468588d) {\"color\":\"#ffccaa\",\"text\":\"great region!\"}'\"\n"
     ]
    },
    {
     "name": "stdout",
     "output_type": "stream",
     "text": [
      "FK5; circle(19:30:34.550,-59:23:39.806,2.468588d) {\"color\":\"#ffccaa\",\"text\":\"great region!\"}"
     ]
    }
   ],
   "source": [
    "J_primary.SaveRegionFile()\n",
    "!cat js9.reg"
   ]
  }
 ],
 "metadata": {
  "kernelspec": {
   "display_name": "Python 3 (ipykernel)",
   "language": "python",
   "name": "python3"
  },
  "language_info": {
   "codemirror_mode": {
    "name": "ipython",
    "version": 3
   },
   "file_extension": ".py",
   "mimetype": "text/x-python",
   "name": "python",
   "nbconvert_exporter": "python",
   "pygments_lexer": "ipython3",
   "version": "3.8.10"
  }
 },
 "nbformat": 4,
 "nbformat_minor": 5
}
